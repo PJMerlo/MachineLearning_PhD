{
 "cells": [
  {
   "cell_type": "markdown",
   "id": "468db398-fe54-4155-b31f-5b4013676f6b",
   "metadata": {},
   "source": [
    "## **UPGMA**"
   ]
  },
  {
   "cell_type": "code",
   "execution_count": 42,
   "id": "020160f2-8de6-43eb-8ad4-3609896d9215",
   "metadata": {},
   "outputs": [],
   "source": [
    "import pandas as pd\n",
    "import numpy as np\n",
    "import matplotlib as mpl\n",
    "import matplotlib.pyplot as plt\n",
    "import seaborn as sns\n",
    "sns.set_style(\"white\")"
   ]
  },
  {
   "cell_type": "code",
   "execution_count": 43,
   "id": "45e9bcf7-b1be-4c20-bd8f-7e62c5945d44",
   "metadata": {},
   "outputs": [
    {
     "data": {
      "text/html": [
       "<div>\n",
       "<style scoped>\n",
       "    .dataframe tbody tr th:only-of-type {\n",
       "        vertical-align: middle;\n",
       "    }\n",
       "\n",
       "    .dataframe tbody tr th {\n",
       "        vertical-align: top;\n",
       "    }\n",
       "\n",
       "    .dataframe thead th {\n",
       "        text-align: right;\n",
       "    }\n",
       "</style>\n",
       "<table border=\"1\" class=\"dataframe\">\n",
       "  <thead>\n",
       "    <tr style=\"text-align: right;\">\n",
       "      <th></th>\n",
       "      <th>Location</th>\n",
       "      <th>Callorhinchus callorynchus</th>\n",
       "      <th>Galeorhinus galeus</th>\n",
       "      <th>Mustelus schmitti</th>\n",
       "      <th>Notorynchus cepedianus</th>\n",
       "      <th>Myliobatis goodei</th>\n",
       "      <th>Percophis brasiliensis</th>\n",
       "      <th>Genidens barbus</th>\n",
       "      <th>Sebastes oculatus</th>\n",
       "      <th>Congiopodus peruvianus</th>\n",
       "      <th>...</th>\n",
       "      <th>Helcogrammoides cunninghami</th>\n",
       "      <th>Paralichthys patagonicus</th>\n",
       "      <th>Acanthistius patachonicus</th>\n",
       "      <th>Scomber colias</th>\n",
       "      <th>Odontesthes smitti</th>\n",
       "      <th>Trachurus lathami</th>\n",
       "      <th>Mullus argentinae</th>\n",
       "      <th>Stromateus brasiliensis</th>\n",
       "      <th>Pomatomus saltatrix</th>\n",
       "      <th>Myxinidae</th>\n",
       "    </tr>\n",
       "  </thead>\n",
       "  <tbody>\n",
       "    <tr>\n",
       "      <th>0</th>\n",
       "      <td>GSM</td>\n",
       "      <td>1.8</td>\n",
       "      <td>1.6</td>\n",
       "      <td>0.0</td>\n",
       "      <td>0.0</td>\n",
       "      <td>1.0</td>\n",
       "      <td>2.5</td>\n",
       "      <td>0.0</td>\n",
       "      <td>2.4</td>\n",
       "      <td>1.5</td>\n",
       "      <td>...</td>\n",
       "      <td>1.7</td>\n",
       "      <td>1.5</td>\n",
       "      <td>3.1</td>\n",
       "      <td>3.4</td>\n",
       "      <td>2.8</td>\n",
       "      <td>0.0</td>\n",
       "      <td>2.5</td>\n",
       "      <td>1.0</td>\n",
       "      <td>1.0</td>\n",
       "      <td>0.0</td>\n",
       "    </tr>\n",
       "    <tr>\n",
       "      <th>1</th>\n",
       "      <td>GSJ</td>\n",
       "      <td>1.8</td>\n",
       "      <td>1.8</td>\n",
       "      <td>0.0</td>\n",
       "      <td>0.0</td>\n",
       "      <td>0.0</td>\n",
       "      <td>1.3</td>\n",
       "      <td>1.0</td>\n",
       "      <td>2.5</td>\n",
       "      <td>0.0</td>\n",
       "      <td>...</td>\n",
       "      <td>1.0</td>\n",
       "      <td>1.3</td>\n",
       "      <td>2.8</td>\n",
       "      <td>2.7</td>\n",
       "      <td>2.8</td>\n",
       "      <td>1.8</td>\n",
       "      <td>0.0</td>\n",
       "      <td>0.0</td>\n",
       "      <td>0.0</td>\n",
       "      <td>0.0</td>\n",
       "    </tr>\n",
       "    <tr>\n",
       "      <th>2</th>\n",
       "      <td>GN</td>\n",
       "      <td>2.5</td>\n",
       "      <td>2.5</td>\n",
       "      <td>1.0</td>\n",
       "      <td>1.3</td>\n",
       "      <td>1.3</td>\n",
       "      <td>1.8</td>\n",
       "      <td>1.0</td>\n",
       "      <td>2.9</td>\n",
       "      <td>0.0</td>\n",
       "      <td>...</td>\n",
       "      <td>1.9</td>\n",
       "      <td>1.0</td>\n",
       "      <td>3.3</td>\n",
       "      <td>3.5</td>\n",
       "      <td>2.9</td>\n",
       "      <td>0.0</td>\n",
       "      <td>0.0</td>\n",
       "      <td>0.0</td>\n",
       "      <td>0.0</td>\n",
       "      <td>0.0</td>\n",
       "    </tr>\n",
       "    <tr>\n",
       "      <th>3</th>\n",
       "      <td>CR_Cam</td>\n",
       "      <td>1.7</td>\n",
       "      <td>1.3</td>\n",
       "      <td>0.0</td>\n",
       "      <td>0.0</td>\n",
       "      <td>0.0</td>\n",
       "      <td>0.0</td>\n",
       "      <td>0.0</td>\n",
       "      <td>3.1</td>\n",
       "      <td>0.0</td>\n",
       "      <td>...</td>\n",
       "      <td>1.3</td>\n",
       "      <td>0.0</td>\n",
       "      <td>2.1</td>\n",
       "      <td>3.2</td>\n",
       "      <td>1.8</td>\n",
       "      <td>0.0</td>\n",
       "      <td>0.0</td>\n",
       "      <td>0.0</td>\n",
       "      <td>0.0</td>\n",
       "      <td>1.0</td>\n",
       "    </tr>\n",
       "    <tr>\n",
       "      <th>4</th>\n",
       "      <td>Comod_Riv</td>\n",
       "      <td>0.0</td>\n",
       "      <td>0.0</td>\n",
       "      <td>0.0</td>\n",
       "      <td>0.0</td>\n",
       "      <td>0.0</td>\n",
       "      <td>0.0</td>\n",
       "      <td>0.0</td>\n",
       "      <td>2.7</td>\n",
       "      <td>0.0</td>\n",
       "      <td>...</td>\n",
       "      <td>1.0</td>\n",
       "      <td>0.0</td>\n",
       "      <td>0.0</td>\n",
       "      <td>0.0</td>\n",
       "      <td>2.6</td>\n",
       "      <td>0.0</td>\n",
       "      <td>0.0</td>\n",
       "      <td>0.0</td>\n",
       "      <td>0.0</td>\n",
       "      <td>1.3</td>\n",
       "    </tr>\n",
       "  </tbody>\n",
       "</table>\n",
       "<p>5 rows × 33 columns</p>\n",
       "</div>"
      ],
      "text/plain": [
       "    Location  Callorhinchus callorynchus  Galeorhinus galeus  \\\n",
       "0        GSM                         1.8                 1.6   \n",
       "1        GSJ                         1.8                 1.8   \n",
       "2         GN                         2.5                 2.5   \n",
       "3     CR_Cam                         1.7                 1.3   \n",
       "4  Comod_Riv                         0.0                 0.0   \n",
       "\n",
       "   Mustelus schmitti  Notorynchus cepedianus  Myliobatis goodei  \\\n",
       "0                0.0                     0.0                1.0   \n",
       "1                0.0                     0.0                0.0   \n",
       "2                1.0                     1.3                1.3   \n",
       "3                0.0                     0.0                0.0   \n",
       "4                0.0                     0.0                0.0   \n",
       "\n",
       "   Percophis brasiliensis  Genidens barbus  Sebastes oculatus  \\\n",
       "0                     2.5              0.0                2.4   \n",
       "1                     1.3              1.0                2.5   \n",
       "2                     1.8              1.0                2.9   \n",
       "3                     0.0              0.0                3.1   \n",
       "4                     0.0              0.0                2.7   \n",
       "\n",
       "   Congiopodus peruvianus  ...  Helcogrammoides cunninghami  \\\n",
       "0                     1.5  ...                          1.7   \n",
       "1                     0.0  ...                          1.0   \n",
       "2                     0.0  ...                          1.9   \n",
       "3                     0.0  ...                          1.3   \n",
       "4                     0.0  ...                          1.0   \n",
       "\n",
       "   Paralichthys patagonicus  Acanthistius patachonicus  Scomber colias  \\\n",
       "0                       1.5                        3.1             3.4   \n",
       "1                       1.3                        2.8             2.7   \n",
       "2                       1.0                        3.3             3.5   \n",
       "3                       0.0                        2.1             3.2   \n",
       "4                       0.0                        0.0             0.0   \n",
       "\n",
       "   Odontesthes smitti  Trachurus lathami  Mullus argentinae  \\\n",
       "0                 2.8                0.0                2.5   \n",
       "1                 2.8                1.8                0.0   \n",
       "2                 2.9                0.0                0.0   \n",
       "3                 1.8                0.0                0.0   \n",
       "4                 2.6                0.0                0.0   \n",
       "\n",
       "   Stromateus brasiliensis  Pomatomus saltatrix  Myxinidae  \n",
       "0                      1.0                  1.0        0.0  \n",
       "1                      0.0                  0.0        0.0  \n",
       "2                      0.0                  0.0        0.0  \n",
       "3                      0.0                  0.0        1.0  \n",
       "4                      0.0                  0.0        1.3  \n",
       "\n",
       "[5 rows x 33 columns]"
      ]
     },
     "execution_count": 43,
     "metadata": {},
     "output_type": "execute_result"
    }
   ],
   "source": [
    "df = pd.read_csv('AbundancesBySite_upgma.csv')\n",
    "df.head()"
   ]
  },
  {
   "cell_type": "code",
   "execution_count": 44,
   "id": "858df961-fe5d-49b0-a2ef-a8219f7fbc62",
   "metadata": {},
   "outputs": [
    {
     "data": {
      "text/plain": [
       "(7, 32)"
      ]
     },
     "execution_count": 44,
     "metadata": {},
     "output_type": "execute_result"
    }
   ],
   "source": [
    "from sklearn.preprocessing import StandardScaler\n",
    "\n",
    "data_scaler = StandardScaler()\n",
    "\n",
    "scaled_data = data_scaler.fit_transform(df.iloc[:,1:])\n",
    "scaled_data.shape"
   ]
  },
  {
   "cell_type": "code",
   "execution_count": 45,
   "id": "10aabc40-bb16-4eeb-969c-622002812a33",
   "metadata": {},
   "outputs": [],
   "source": [
    "from scipy.cluster.hierarchy import linkage, dendrogram\n",
    "\n",
    "complete_clustering = linkage(scaled_data, method=\"complete\", metric=\"euclidean\")\n",
    "average_clustering = linkage(scaled_data, method=\"average\", metric=\"euclidean\")\n",
    "single_clustering = linkage(scaled_data, method=\"single\", metric=\"euclidean\")"
   ]
  },
  {
   "cell_type": "code",
   "execution_count": 46,
   "id": "d30922db-e00f-4564-8ce5-b8b91326c86f",
   "metadata": {},
   "outputs": [
    {
     "data": {
      "image/png": "[encoded data removed]",
      "text/plain": [
       "<Figure size 600x400 with 1 Axes>"
      ]
     },
     "metadata": {},
     "output_type": "display_data"
    }
   ],
   "source": [
    "plt.figure(figsize=(6, 4))\n",
    "dendrogram(complete_clustering)\n",
    "plt.show()"
   ]
  },
  {
   "cell_type": "code",
   "execution_count": 47,
   "id": "0edfd4f8-27ef-41e2-bf26-a60042271813",
   "metadata": {},
   "outputs": [
    {
     "data": {
      "image/png": "[encoded data removed]",
      "text/plain": [
       "<Figure size 600x400 with 1 Axes>"
      ]
     },
     "metadata": {},
     "output_type": "display_data"
    }
   ],
   "source": [
    "plt.figure(figsize=(6, 4))\n",
    "dendrogram(single_clustering)\n",
    "plt.show()"
   ]
  },
  {
   "cell_type": "code",
   "execution_count": 49,
   "id": "501ad0a7-27d5-497d-8d67-b8fa5515a63a",
   "metadata": {},
   "outputs": [
    {
     "data": {
      "image/png": "[encoded data removed]",
      "text/plain": [
       "<Figure size 600x400 with 1 Axes>"
      ]
     },
     "metadata": {},
     "output_type": "display_data"
    }
   ],
   "source": [
    "plt.figure(figsize=(6, 4))\n",
    "dendrogram(average_clustering)\n",
    "plt.savefig('upgma.tiff', dpi=300, bbox_inches='tight', facecolor='white')\n",
    "plt.show()"
   ]
  },
  {
   "cell_type": "markdown",
   "id": "7c22abcd-168a-487b-8d61-1613825a7f92",
   "metadata": {},
   "source": [
    "<h4> La mayor diferenciación entre sitios se da entre los clusters que contienen a los sitios 0,1 y 2 versus el cluster que contiene a los restantes sitios. A menor número de índice del sitio, menor latitud, y sitios con números contiguos, que resultaron más similares, están geográficamente más cercanos entre sí. Esto indica que la similitud entre sitios está relacionada con la latitud y distancia geográfica entre sitios. </h4>"
   ]
  }
 ],
 "metadata": {
  "kernelspec": {
   "display_name": "Python 3 (ipykernel)",
   "language": "python",
   "name": "python3"
  },
  "language_info": {
   "codemirror_mode": {
    "name": "ipython",
    "version": 3
   },
   "file_extension": ".py",
   "mimetype": "text/x-python",
   "name": "python",
   "nbconvert_exporter": "python",
   "pygments_lexer": "ipython3",
   "version": "3.10.9"
  }
 },
 "nbformat": 4,
 "nbformat_minor": 5
}
